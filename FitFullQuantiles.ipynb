{
 "cells": [
  {
   "cell_type": "code",
   "execution_count": 1,
   "metadata": {},
   "outputs": [],
   "source": [
    "%load_ext autoreload\n",
    "%autoreload 2"
   ]
  },
  {
   "cell_type": "code",
   "execution_count": 2,
   "metadata": {},
   "outputs": [],
   "source": [
    "import random"
   ]
  },
  {
   "cell_type": "code",
   "execution_count": 3,
   "metadata": {},
   "outputs": [],
   "source": [
    "import numpy as np\n",
    "import pandas as pd\n",
    "from scipy import stats"
   ]
  },
  {
   "cell_type": "code",
   "execution_count": 4,
   "metadata": {},
   "outputs": [],
   "source": [
    "import matplotlib.pyplot as plt\n",
    "%matplotlib inline"
   ]
  },
  {
   "cell_type": "code",
   "execution_count": 5,
   "metadata": {},
   "outputs": [
    {
     "name": "stderr",
     "output_type": "stream",
     "text": [
      "/Library/Frameworks/Python.framework/Versions/3.6/lib/python3.6/importlib/_bootstrap.py:219: RuntimeWarning: compiletime version 3.5 of module 'tensorflow.python.framework.fast_tensor_util' does not match runtime version 3.6\n",
      "  return f(*args, **kwds)\n"
     ]
    }
   ],
   "source": [
    "import tensorflow as tf"
   ]
  },
  {
   "cell_type": "code",
   "execution_count": 6,
   "metadata": {},
   "outputs": [],
   "source": [
    "import tssimul\n",
    "import tspred\n",
    "import tspred_qtl\n",
    "import rnn_analysis"
   ]
  },
  {
   "cell_type": "code",
   "execution_count": 142,
   "metadata": {},
   "outputs": [],
   "source": [
    "from sklearn.metrics import (mean_squared_error,\n",
    "                             log_loss,\n",
    "                             confusion_matrix)\n",
    "from sklearn.linear_model import (LinearRegression,\n",
    "                                  LogisticRegression,\n",
    "                                  SGDClassifier,\n",
    "                                  SGDRegressor)\n",
    "from sklearn.decomposition import FastICA, PCA\n",
    "from sklearn.ensemble import (RandomForestRegressor,\n",
    "                              RandomForestClassifier)"
   ]
  },
  {
   "cell_type": "code",
   "execution_count": null,
   "metadata": {},
   "outputs": [],
   "source": []
  },
  {
   "cell_type": "code",
   "execution_count": 8,
   "metadata": {},
   "outputs": [],
   "source": [
    "burn_in = 50"
   ]
  },
  {
   "cell_type": "markdown",
   "metadata": {},
   "source": [
    "# AR(1) "
   ]
  },
  {
   "cell_type": "markdown",
   "metadata": {},
   "source": [
    "Simulate samples"
   ]
  },
  {
   "cell_type": "code",
   "execution_count": 9,
   "metadata": {},
   "outputs": [],
   "source": [
    "ar = [0.0868, 0.3667]\n",
    "ma = [-0.1150, -0.4068]\n",
    "sigma = .0112"
   ]
  },
  {
   "cell_type": "code",
   "execution_count": 10,
   "metadata": {},
   "outputs": [],
   "source": [
    "simulation = tssimul.simulate_arima(ar, ma, sigma, (5000, 1000), 'n')\n",
    "simulation_test = tssimul.simulate_arima(ar, ma, sigma, (5000, 1000), 'n')"
   ]
  },
  {
   "cell_type": "code",
   "execution_count": 11,
   "metadata": {},
   "outputs": [
    {
     "data": {
      "text/plain": [
       "((5000, 3, 1000), (5000, 3, 1000))"
      ]
     },
     "execution_count": 11,
     "metadata": {},
     "output_type": "execute_result"
    }
   ],
   "source": [
    "simulation.shape, simulation_test.shape"
   ]
  },
  {
   "cell_type": "code",
   "execution_count": 12,
   "metadata": {},
   "outputs": [],
   "source": [
    "simulation_t = tssimul.simulate_arima(ar, ma, sigma, (5000, 1000), 't', 4.5)\n",
    "simulation_t_test = tssimul.simulate_arima(ar, ma, sigma, (5000, 1000), 't', 4.5)"
   ]
  },
  {
   "cell_type": "code",
   "execution_count": 63,
   "metadata": {},
   "outputs": [],
   "source": [
    "simulation_exp = tssimul.simulate_arima(ar, ma, sigma, (5000, 1000), 'exp')\n",
    "simulation_exp_test = tssimul.simulate_arima(ar, ma, sigma, (5000, 1000), 'exp')"
   ]
  },
  {
   "cell_type": "code",
   "execution_count": 14,
   "metadata": {},
   "outputs": [],
   "source": [
    "# np.savez_compressed('simulation', data=simulation)\n",
    "# np.savez_compressed('simulation_test', data=simulation_test)"
   ]
  },
  {
   "cell_type": "code",
   "execution_count": 64,
   "metadata": {},
   "outputs": [],
   "source": [
    "data = simulation_exp\n",
    "data_test = simulation_exp_test"
   ]
  },
  {
   "cell_type": "markdown",
   "metadata": {},
   "source": [
    "# Stochastic Volatility"
   ]
  },
  {
   "cell_type": "markdown",
   "metadata": {},
   "source": [
    "Simulate samples"
   ]
  },
  {
   "cell_type": "code",
   "execution_count": 10,
   "metadata": {},
   "outputs": [],
   "source": [
    "sv_beta = .98\n",
    "sv_sigma = .168\n",
    "sv_intercept = -3.926"
   ]
  },
  {
   "cell_type": "code",
   "execution_count": 11,
   "metadata": {},
   "outputs": [],
   "source": [
    "sv, svvol = tssimul.simulate_sv(sv_beta, sv_sigma,\n",
    "                                sv_intercept, (5000, 1000))\n",
    "sv_test, svvol_test = tssimul.simulate_sv(sv_beta, sv_sigma,\n",
    "                                          sv_intercept, (500, 1000))"
   ]
  },
  {
   "cell_type": "code",
   "execution_count": 12,
   "metadata": {},
   "outputs": [
    {
     "data": {
      "text/plain": [
       "DescribeResult(nobs=5000000, minmax=(-0.16251504124838245, 0.16889895057080634), mean=6.3666536513315898e-06, variance=0.00010975681166093846, skewness=0.008468034416795452, kurtosis=3.1227177163589674)"
      ]
     },
     "execution_count": 12,
     "metadata": {},
     "output_type": "execute_result"
    }
   ],
   "source": [
    "stats.describe(sv.ravel())"
   ]
  },
  {
   "cell_type": "code",
   "execution_count": 82,
   "metadata": {},
   "outputs": [
    {
     "data": {
      "text/plain": [
       "DescribeResult(nobs=5000000, minmax=(0.018045324639038317, 1.1020478390646546), mean=0.15329274226257966, variance=0.0044917155658833405, skewness=1.4174405203109106, kurtosis=3.7752985793496885)"
      ]
     },
     "execution_count": 82,
     "metadata": {},
     "output_type": "execute_result"
    }
   ],
   "source": [
    "stats.describe(svvol.ravel())"
   ]
  },
  {
   "cell_type": "code",
   "execution_count": 83,
   "metadata": {},
   "outputs": [
    {
     "data": {
      "text/plain": [
       "DescribeResult(nobs=5000000, minmax=(0.00032563374132828335, 1.214509439587075), mean=0.027990379497921915, variance=0.00080035720864075953, skewness=4.054450387095615, kurtosis=36.16007596911728)"
      ]
     },
     "execution_count": 83,
     "metadata": {},
     "output_type": "execute_result"
    }
   ],
   "source": [
    "stats.describe(svvol.ravel() ** 2)"
   ]
  },
  {
   "cell_type": "code",
   "execution_count": 84,
   "metadata": {},
   "outputs": [
    {
     "data": {
      "text/plain": [
       "DescribeResult(nobs=500000, minmax=(0.00035299657692129102, 0.89837317286388985), mean=0.027837523641173794, variance=0.00081043106975812117, skewness=4.255823225893204, kurtosis=39.43058636697476)"
      ]
     },
     "execution_count": 84,
     "metadata": {},
     "output_type": "execute_result"
    }
   ],
   "source": [
    "stats.describe(svvol_test.ravel() ** 2)"
   ]
  },
  {
   "cell_type": "code",
   "execution_count": 12,
   "metadata": {},
   "outputs": [],
   "source": [
    "data = tssimul.simulate_arima_given_innov(ar, [], sv)\n",
    "data_test = tssimul.simulate_arima_given_innov(ar, [], sv_test)"
   ]
  },
  {
   "cell_type": "code",
   "execution_count": 164,
   "metadata": {},
   "outputs": [],
   "source": [
    "# np.savez_compressed(<file>, data=data, svvol=svvol)"
   ]
  },
  {
   "cell_type": "markdown",
   "metadata": {},
   "source": [
    "# Regime-Switching Process"
   ]
  },
  {
   "cell_type": "markdown",
   "metadata": {},
   "source": [
    "Simulate samples"
   ]
  },
  {
   "cell_type": "code",
   "execution_count": 99,
   "metadata": {},
   "outputs": [],
   "source": [
    "rs_p0 = .8\n",
    "rs_p00 = .9\n",
    "rs_p10 = .2\n",
    "rs_mu = [0, -.005]\n",
    "rs_sigma = [.08, .3]\n",
    "rs, rs_prob0, rs_regime = tssimul.simulate_rs(rs_p0, rs_p00,\n",
    "                                              rs_p10, rs_mu,\n",
    "                                              rs_sigma, (5000, 1000))\n",
    "rs_test, rs_prob0_test, rs_regime_test = tssimul.simulate_rs(rs_p0,\n",
    "                                                             rs_p00,\n",
    "                                                             rs_p10,\n",
    "                                                             rs_mu,\n",
    "                                                             rs_sigma,\n",
    "                                                             (500, 1000))"
   ]
  },
  {
   "cell_type": "code",
   "execution_count": 100,
   "metadata": {},
   "outputs": [
    {
     "data": {
      "text/plain": [
       "((5000, 1000), (5000, 1000), (5000, 1000))"
      ]
     },
     "execution_count": 100,
     "metadata": {},
     "output_type": "execute_result"
    }
   ],
   "source": [
    "rs.shape, rs_prob0.shape, rs_regime.shape"
   ]
  },
  {
   "cell_type": "code",
   "execution_count": 13,
   "metadata": {},
   "outputs": [
    {
     "data": {
      "text/plain": [
       "DescribeResult(nobs=5000000, minmax=(-0.10027182433879982, 0.1031418152339469), mean=-0.0016676499245161524, variance=0.00013972994882308483, skewness=-0.6644921381648347, kurtosis=3.8469821872161205)"
      ]
     },
     "execution_count": 13,
     "metadata": {},
     "output_type": "execute_result"
    }
   ],
   "source": [
    "stats.describe(rs.ravel())"
   ]
  },
  {
   "cell_type": "code",
   "execution_count": 13,
   "metadata": {},
   "outputs": [
    {
     "data": {
      "text/plain": [
       "0.011789826122551595"
      ]
     },
     "execution_count": 13,
     "metadata": {},
     "output_type": "execute_result"
    }
   ],
   "source": [
    "np.sqrt(0.000139)"
   ]
  },
  {
   "cell_type": "code",
   "execution_count": 101,
   "metadata": {},
   "outputs": [
    {
     "data": {
      "text/plain": [
       "[<matplotlib.lines.Line2D at 0x14f5364e0>]"
      ]
     },
     "execution_count": 101,
     "metadata": {},
     "output_type": "execute_result"
    },
    {
     "data": {
      "image/png": "[encoded data removed]",
      "text/plain": [
       "<matplotlib.figure.Figure at 0x1351a9c50>"
      ]
     },
     "metadata": {},
     "output_type": "display_data"
    }
   ],
   "source": [
    "plt.plot(rs[75, :])"
   ]
  },
  {
   "cell_type": "code",
   "execution_count": 102,
   "metadata": {},
   "outputs": [],
   "source": [
    "data = tssimul.simulate_arima_given_innov(ar, [], rs)\n",
    "data_test = tssimul.simulate_arima_given_innov(ar, [], rs_test)"
   ]
  },
  {
   "cell_type": "code",
   "execution_count": null,
   "metadata": {},
   "outputs": [],
   "source": []
  },
  {
   "cell_type": "markdown",
   "metadata": {},
   "source": [
    "# Quantile Regression"
   ]
  },
  {
   "cell_type": "code",
   "execution_count": 13,
   "metadata": {},
   "outputs": [],
   "source": [
    "sess = tf.Session()"
   ]
  },
  {
   "cell_type": "code",
   "execution_count": 14,
   "metadata": {},
   "outputs": [],
   "source": [
    "simple_features = lambda x: x[:-1]"
   ]
  },
  {
   "cell_type": "code",
   "execution_count": 15,
   "metadata": {},
   "outputs": [],
   "source": [
    "features_func = simple_features\n",
    "targets_func = lambda x: x[1:]"
   ]
  },
  {
   "cell_type": "code",
   "execution_count": null,
   "metadata": {},
   "outputs": [],
   "source": []
  },
  {
   "cell_type": "code",
   "execution_count": 103,
   "metadata": {},
   "outputs": [],
   "source": [
    "symbols_qtl = {}\n",
    "cell_qtl = {}\n",
    "quantiles = [.05, .25, .5, .75, .95]"
   ]
  },
  {
   "cell_type": "code",
   "execution_count": 104,
   "metadata": {
    "scrolled": true
   },
   "outputs": [
    {
     "name": "stderr",
     "output_type": "stream",
     "text": [
      "Iter 0 Train loss 0.0179 Dev loss 0.0179\n",
      "Iter 50 Train loss 0.0174 Dev loss 0.0174\n",
      "Iter 100 Train loss 0.0174 Dev loss 0.0173\n",
      "Iter 150 Train loss 0.0173 Dev loss 0.0172\n",
      "Iter 200 Train loss 0.0171 Dev loss 0.0172\n",
      "Iter 250 Train loss 0.0171 Dev loss 0.0172\n",
      "Iter 0 Train loss 0.3545 Dev loss 0.3537\n",
      "Iter 50 Train loss 0.2873 Dev loss 0.2860\n",
      "Iter 100 Train loss 0.2180 Dev loss 0.2160\n",
      "Iter 150 Train loss 0.1463 Dev loss 0.1451\n",
      "Iter 200 Train loss 0.0864 Dev loss 0.0855\n",
      "Iter 250 Train loss 0.0532 Dev loss 0.0528\n",
      "Iter 0 Train loss 0.4299 Dev loss 0.4274\n",
      "Iter 50 Train loss 0.2282 Dev loss 0.2242\n",
      "Iter 100 Train loss 0.0729 Dev loss 0.0710\n",
      "Iter 150 Train loss 0.0450 Dev loss 0.0441\n",
      "Iter 200 Train loss 0.0450 Dev loss 0.0440\n",
      "Iter 250 Train loss 0.0441 Dev loss 0.0440\n",
      "Iter 0 Train loss 0.5563 Dev loss 0.5548\n",
      "Iter 50 Train loss 0.2646 Dev loss 0.2594\n",
      "Iter 100 Train loss 0.0581 Dev loss 0.0574\n",
      "Iter 150 Train loss 0.0404 Dev loss 0.0403\n",
      "Iter 200 Train loss 0.0399 Dev loss 0.0400\n",
      "Iter 250 Train loss 0.0398 Dev loss 0.0398\n",
      "Iter 0 Train loss 0.0422 Dev loss 0.0422\n",
      "Iter 50 Train loss 0.0397 Dev loss 0.0397\n",
      "Iter 100 Train loss 0.0374 Dev loss 0.0373\n",
      "Iter 150 Train loss 0.0351 Dev loss 0.0350\n",
      "Iter 200 Train loss 0.0328 Dev loss 0.0328\n",
      "Iter 250 Train loss 0.0306 Dev loss 0.0306\n"
     ]
    }
   ],
   "source": [
    "for i, qtl in enumerate(quantiles):\n",
    "    symbols_qtl[qtl], cell_qtl[qtl] = (\n",
    "        tspred_qtl.train_lstm(sess, data[:, 0, :] * 10,\n",
    "                              features_func, targets_func,\n",
    "                              quantiles=[qtl], burn_in=burn_in,\n",
    "                              batch_size=50,\n",
    "                              lr0=3e-3, lr_decay=(50, .99), n_iter=300,\n",
    "                              num_units=10, variable_scope=f'rs_run{i}',\n",
    "                              print_every=50))"
   ]
  },
  {
   "cell_type": "markdown",
   "metadata": {},
   "source": [
    "## RNN Internal Contents "
   ]
  },
  {
   "cell_type": "code",
   "execution_count": 105,
   "metadata": {},
   "outputs": [
    {
     "data": {
      "text/plain": [
       "((5000, 999, 1), (5000, 999, 1))"
      ]
     },
     "execution_count": 105,
     "metadata": {},
     "output_type": "execute_result"
    }
   ],
   "source": [
    "lstm_input = np.apply_along_axis(features_func, 1, data[:, 0, :])\n",
    "lstm_output = np.apply_along_axis(targets_func, 1, data[:, 0, :])\n",
    "lstm_input_test = np.apply_along_axis(features_func, 1, data_test[:, 0, :])\n",
    "lstm_output_test = np.apply_along_axis(targets_func, 1, data_test[:, 0, :])\n",
    "if lstm_input.ndim == 2:\n",
    "    lstm_input = lstm_input[:, :, None]\n",
    "    lstm_input_test = lstm_input_test[:, :, None]\n",
    "if lstm_output.ndim == 2:\n",
    "    lstm_output = lstm_output[:, :, None]\n",
    "    lstm_output_test = lstm_output_test[:, :, None]\n",
    "lstm_input.shape, lstm_output.shape"
   ]
  },
  {
   "cell_type": "code",
   "execution_count": 106,
   "metadata": {},
   "outputs": [],
   "source": [
    "def concat_lstm_states(sess, cell, lstm_input):\n",
    "    ''' Return concatenated LSTM states '''\n",
    "    c_states, h_states = rnn_analysis.lstm_states(sess, cell, lstm_input)\n",
    "    return np.concatenate([c_states, h_states], axis=2)"
   ]
  },
  {
   "cell_type": "code",
   "execution_count": 107,
   "metadata": {},
   "outputs": [],
   "source": [
    "states = {}\n",
    "states_test = {}\n",
    "\n",
    "for qtl in quantiles:\n",
    "    states[qtl] = concat_lstm_states(sess, cell_qtl[qtl], lstm_input)\n",
    "    states_test[qtl] = concat_lstm_states(sess, cell_qtl[qtl],\n",
    "                                          lstm_input_test)"
   ]
  },
  {
   "cell_type": "code",
   "execution_count": 108,
   "metadata": {},
   "outputs": [
    {
     "data": {
      "text/plain": [
       "((5000, 999, 20), (500, 999, 20))"
      ]
     },
     "execution_count": 108,
     "metadata": {},
     "output_type": "execute_result"
    }
   ],
   "source": [
    "states[.5].shape, states_test[.5].shape"
   ]
  },
  {
   "cell_type": "markdown",
   "metadata": {},
   "source": [
    "## Baseline Explanation of Latent Variable "
   ]
  },
  {
   "cell_type": "markdown",
   "metadata": {},
   "source": [
    "### Continuous Latent States"
   ]
  },
  {
   "cell_type": "markdown",
   "metadata": {},
   "source": [
    "If the latent state is continuous, we regress."
   ]
  },
  {
   "cell_type": "code",
   "execution_count": 109,
   "metadata": {},
   "outputs": [],
   "source": [
    "n1 = states[.5].shape[0]\n",
    "n2 = states_test[.5].shape[0]"
   ]
  },
  {
   "cell_type": "code",
   "execution_count": 138,
   "metadata": {},
   "outputs": [],
   "source": [
    "def reg_latent_cont(regressor,\n",
    "                    states, states_test, quantiles_subset,\n",
    "                    latent, latent_test, burn_in,\n",
    "                    id_traj=random.sample(range(n1), 50),\n",
    "                    fname=None):\n",
    "    ''' Fit and predict states '''\n",
    "    data = np.concatenate([states[q][id_traj]\n",
    "                           for q in quantiles_subset], axis=2)\n",
    "    data_test = np.concatenate([states_test[q]\n",
    "                                for q in quantiles_subset], axis=2)\n",
    "    p = data.shape[-1]\n",
    "    \n",
    "    print(f'data shape: {data.shape}')\n",
    "    print(f'data_test shape: {data_test.shape}')\n",
    "    \n",
    "    # train\n",
    "    if regressor.lower().startswith('l'):\n",
    "        reg = LinearRegression()\n",
    "    else:\n",
    "        reg = RandomForestRegressor(n_jobs=3, n_estimators=100)\n",
    "        \n",
    "    reg.fit(data[:, burn_in:, :].reshape((-1, p)),\n",
    "            latent[id_traj, (burn_in + 1):].ravel())\n",
    "    \n",
    "    # test\n",
    "    correl_test = [stats.spearmanr(reg.predict(s[burn_in:, :]),\n",
    "                                   lat[(burn_in + 1):]).correlation\n",
    "                   for s, lat in zip(data_test, latent_test)]\n",
    "    \n",
    "    plt.hist(correl_test)\n",
    "    plt.grid()\n",
    "    plt.xlabel('Spearman Correlation')\n",
    "    plt.ylabel('Count')\n",
    "    plt.title('Spearman Correlation on Test Data')\n",
    "    # plt.savefig('doc/hist-spearman-full-qtl.png')\n",
    "    if fname is not None:\n",
    "        plt.savefig(fname)\n",
    "    \n",
    "    return reg"
   ]
  },
  {
   "cell_type": "code",
   "execution_count": 98,
   "metadata": {},
   "outputs": [
    {
     "name": "stdout",
     "output_type": "stream",
     "text": [
      "data shape: (50, 999, 100)\n",
      "data_test shape: (500, 999, 100)\n"
     ]
    },
    {
     "data": {
      "image/png": "[encoded data removed]",
      "text/plain": [
       "<matplotlib.figure.Figure at 0x1278103c8>"
      ]
     },
     "metadata": {},
     "output_type": "display_data"
    }
   ],
   "source": [
    "reg = reg_latent_cont('l',\n",
    "                      states, states_test,\n",
    "                      [.05, .25, .5, .75, .95],\n",
    "                      svvol, svvol_test, burn_in,\n",
    "                      id_traj=random.sample(range(n1), 50))"
   ]
  },
  {
   "cell_type": "code",
   "execution_count": null,
   "metadata": {},
   "outputs": [],
   "source": []
  },
  {
   "cell_type": "markdown",
   "metadata": {},
   "source": [
    "### Discrete Latent States"
   ]
  },
  {
   "cell_type": "code",
   "execution_count": 110,
   "metadata": {},
   "outputs": [],
   "source": [
    "n1 = states[.5].shape[0]\n",
    "n2 = states_test[.5].shape[0]"
   ]
  },
  {
   "cell_type": "code",
   "execution_count": 139,
   "metadata": {},
   "outputs": [],
   "source": [
    "def clf_latent_disc(classifier,\n",
    "                    states, states_test, quantiles_subset,\n",
    "                    latent, latent_test, burn_in,\n",
    "                    id_traj=random.sample(range(n1), 50),\n",
    "                    fname=None):\n",
    "    ''' Fit and predict states '''\n",
    "    data = np.concatenate([states[q][id_traj]\n",
    "                           for q in quantiles_subset], axis=2)\n",
    "    data_test = np.concatenate([states_test[q]\n",
    "                                for q in quantiles_subset], axis=2)\n",
    "    p = data.shape[-1]\n",
    "    \n",
    "    print(f'data shape: {data.shape}')\n",
    "    print(f'data_test shape: {data_test.shape}')\n",
    "    \n",
    "    # train\n",
    "    if classifier.lower().startswith('l'):\n",
    "        clf = LogisticRegression(C=1e8)\n",
    "    else:\n",
    "        clf = RandomForestClassifier(n_jobs=3, n_estimators=100,\n",
    "                                     criterion='entropy')\n",
    "        \n",
    "    clf.fit(data[:, burn_in:, :].reshape((-1, p)),\n",
    "            latent[id_traj, (burn_in + 1):].ravel())\n",
    "    \n",
    "    # test\n",
    "    cross_entropy = [log_loss(g, clf.predict_proba(s))\n",
    "                     for g, s in zip(latent_test[:, (burn_in + 1):],\n",
    "                                     data_test[:, burn_in:, :])]\n",
    "    \n",
    "    plt.hist(cross_entropy)\n",
    "    plt.grid()\n",
    "    plt.xlabel('Cross Entropy')\n",
    "    plt.ylabel('Count')\n",
    "    plt.title('Cross Entropy on Test Data')\n",
    "    # plt.savefig('doc/hist-ce-full-qtl.png')\n",
    "    if fname is not None:\n",
    "        plt.savefig(fname)\n",
    "    \n",
    "    return clf"
   ]
  },
  {
   "cell_type": "code",
   "execution_count": 140,
   "metadata": {},
   "outputs": [
    {
     "name": "stdout",
     "output_type": "stream",
     "text": [
      "data shape: (50, 999, 100)\n",
      "data_test shape: (500, 999, 100)\n"
     ]
    },
    {
     "data": {
      "image/png": "[encoded data removed]",
      "text/plain": [
       "<matplotlib.figure.Figure at 0x135521828>"
      ]
     },
     "metadata": {},
     "output_type": "display_data"
    }
   ],
   "source": [
    "reg = reg_latent_cont('l',\n",
    "                      states, states_test,\n",
    "                      [.05, .25, .5, .75, .95],\n",
    "                      rs_prob0, rs_prob0_test, burn_in,\n",
    "                      id_traj=random.sample(range(n1), 50))"
   ]
  },
  {
   "cell_type": "code",
   "execution_count": 141,
   "metadata": {},
   "outputs": [
    {
     "name": "stdout",
     "output_type": "stream",
     "text": [
      "data shape: (50, 999, 100)\n",
      "data_test shape: (500, 999, 100)\n"
     ]
    },
    {
     "data": {
      "image/png": "[encoded data removed]",
      "text/plain": [
       "<matplotlib.figure.Figure at 0x13598aa90>"
      ]
     },
     "metadata": {},
     "output_type": "display_data"
    }
   ],
   "source": [
    "clf = clf_latent_disc('l',\n",
    "                      states, states_test,\n",
    "                      [.05, .25, .5, .75, .95],\n",
    "                      rs_regime, rs_regime_test, burn_in,\n",
    "                      id_traj=random.sample(range(n1), 50))"
   ]
  },
  {
   "cell_type": "code",
   "execution_count": 147,
   "metadata": {},
   "outputs": [
    {
     "data": {
      "text/plain": [
       "array([[613,  16],\n",
       "       [281,  39]])"
      ]
     },
     "execution_count": 147,
     "metadata": {},
     "output_type": "execute_result"
    }
   ],
   "source": [
    "__states_test = np.concatenate([states_test[q]\n",
    "                                for q in [.05, .25, .5, .75, .95]], axis=2)\n",
    "confusion_matrix(rs_regime_test[227, (burn_in + 1):],\n",
    "                 clf.predict(__states_test[227, burn_in:, :]))"
   ]
  },
  {
   "cell_type": "markdown",
   "metadata": {},
   "source": [
    "So LSTM can track continuous latent states but less so the discrete ones."
   ]
  },
  {
   "cell_type": "code",
   "execution_count": null,
   "metadata": {},
   "outputs": [],
   "source": []
  },
  {
   "cell_type": "code",
   "execution_count": null,
   "metadata": {},
   "outputs": [],
   "source": []
  },
  {
   "cell_type": "code",
   "execution_count": 148,
   "metadata": {},
   "outputs": [],
   "source": [
    "sess.close()"
   ]
  },
  {
   "cell_type": "code",
   "execution_count": null,
   "metadata": {},
   "outputs": [],
   "source": []
  }
 ],
 "metadata": {
  "kernelspec": {
   "display_name": "Python 3",
   "language": "python",
   "name": "python3"
  },
  "language_info": {
   "codemirror_mode": {
    "name": "ipython",
    "version": 3
   },
   "file_extension": ".py",
   "mimetype": "text/x-python",
   "name": "python",
   "nbconvert_exporter": "python",
   "pygments_lexer": "ipython3",
   "version": "3.6.4"
  }
 },
 "nbformat": 4,
 "nbformat_minor": 2
}
